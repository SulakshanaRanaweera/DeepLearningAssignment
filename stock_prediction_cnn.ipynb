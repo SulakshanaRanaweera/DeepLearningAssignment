{
 "cells": [
  {
   "cell_type": "code",
   "execution_count": 19,
   "metadata": {
    "colab": {
     "base_uri": "https://localhost:8080/",
     "height": 73
    },
    "id": "CLPKAfeSjw8-",
    "outputId": "981fddbc-7b24-472d-e1c9-1765746d53d3"
   },
   "outputs": [
    {
     "data": {
      "text/html": [
       "\n",
       "     <input type=\"file\" id=\"files-b4eab815-cf9c-4b1a-93ef-90193a180bf4\" name=\"files[]\" multiple disabled\n",
       "        style=\"border:none\" />\n",
       "     <output id=\"result-b4eab815-cf9c-4b1a-93ef-90193a180bf4\">\n",
       "      Upload widget is only available when the cell has been executed in the\n",
       "      current browser session. Please rerun this cell to enable.\n",
       "      </output>\n",
       "      <script>// Copyright 2017 Google LLC\n",
       "//\n",
       "// Licensed under the Apache License, Version 2.0 (the \"License\");\n",
       "// you may not use this file except in compliance with the License.\n",
       "// You may obtain a copy of the License at\n",
       "//\n",
       "//      http://www.apache.org/licenses/LICENSE-2.0\n",
       "//\n",
       "// Unless required by applicable law or agreed to in writing, software\n",
       "// distributed under the License is distributed on an \"AS IS\" BASIS,\n",
       "// WITHOUT WARRANTIES OR CONDITIONS OF ANY KIND, either express or implied.\n",
       "// See the License for the specific language governing permissions and\n",
       "// limitations under the License.\n",
       "\n",
       "/**\n",
       " * @fileoverview Helpers for google.colab Python module.\n",
       " */\n",
       "(function(scope) {\n",
       "function span(text, styleAttributes = {}) {\n",
       "  const element = document.createElement('span');\n",
       "  element.textContent = text;\n",
       "  for (const key of Object.keys(styleAttributes)) {\n",
       "    element.style[key] = styleAttributes[key];\n",
       "  }\n",
       "  return element;\n",
       "}\n",
       "\n",
       "// Max number of bytes which will be uploaded at a time.\n",
       "const MAX_PAYLOAD_SIZE = 100 * 1024;\n",
       "\n",
       "function _uploadFiles(inputId, outputId) {\n",
       "  const steps = uploadFilesStep(inputId, outputId);\n",
       "  const outputElement = document.getElementById(outputId);\n",
       "  // Cache steps on the outputElement to make it available for the next call\n",
       "  // to uploadFilesContinue from Python.\n",
       "  outputElement.steps = steps;\n",
       "\n",
       "  return _uploadFilesContinue(outputId);\n",
       "}\n",
       "\n",
       "// This is roughly an async generator (not supported in the browser yet),\n",
       "// where there are multiple asynchronous steps and the Python side is going\n",
       "// to poll for completion of each step.\n",
       "// This uses a Promise to block the python side on completion of each step,\n",
       "// then passes the result of the previous step as the input to the next step.\n",
       "function _uploadFilesContinue(outputId) {\n",
       "  const outputElement = document.getElementById(outputId);\n",
       "  const steps = outputElement.steps;\n",
       "\n",
       "  const next = steps.next(outputElement.lastPromiseValue);\n",
       "  return Promise.resolve(next.value.promise).then((value) => {\n",
       "    // Cache the last promise value to make it available to the next\n",
       "    // step of the generator.\n",
       "    outputElement.lastPromiseValue = value;\n",
       "    return next.value.response;\n",
       "  });\n",
       "}\n",
       "\n",
       "/**\n",
       " * Generator function which is called between each async step of the upload\n",
       " * process.\n",
       " * @param {string} inputId Element ID of the input file picker element.\n",
       " * @param {string} outputId Element ID of the output display.\n",
       " * @return {!Iterable<!Object>} Iterable of next steps.\n",
       " */\n",
       "function* uploadFilesStep(inputId, outputId) {\n",
       "  const inputElement = document.getElementById(inputId);\n",
       "  inputElement.disabled = false;\n",
       "\n",
       "  const outputElement = document.getElementById(outputId);\n",
       "  outputElement.innerHTML = '';\n",
       "\n",
       "  const pickedPromise = new Promise((resolve) => {\n",
       "    inputElement.addEventListener('change', (e) => {\n",
       "      resolve(e.target.files);\n",
       "    });\n",
       "  });\n",
       "\n",
       "  const cancel = document.createElement('button');\n",
       "  inputElement.parentElement.appendChild(cancel);\n",
       "  cancel.textContent = 'Cancel upload';\n",
       "  const cancelPromise = new Promise((resolve) => {\n",
       "    cancel.onclick = () => {\n",
       "      resolve(null);\n",
       "    };\n",
       "  });\n",
       "\n",
       "  // Wait for the user to pick the files.\n",
       "  const files = yield {\n",
       "    promise: Promise.race([pickedPromise, cancelPromise]),\n",
       "    response: {\n",
       "      action: 'starting',\n",
       "    }\n",
       "  };\n",
       "\n",
       "  cancel.remove();\n",
       "\n",
       "  // Disable the input element since further picks are not allowed.\n",
       "  inputElement.disabled = true;\n",
       "\n",
       "  if (!files) {\n",
       "    return {\n",
       "      response: {\n",
       "        action: 'complete',\n",
       "      }\n",
       "    };\n",
       "  }\n",
       "\n",
       "  for (const file of files) {\n",
       "    const li = document.createElement('li');\n",
       "    li.append(span(file.name, {fontWeight: 'bold'}));\n",
       "    li.append(span(\n",
       "        `(${file.type || 'n/a'}) - ${file.size} bytes, ` +\n",
       "        `last modified: ${\n",
       "            file.lastModifiedDate ? file.lastModifiedDate.toLocaleDateString() :\n",
       "                                    'n/a'} - `));\n",
       "    const percent = span('0% done');\n",
       "    li.appendChild(percent);\n",
       "\n",
       "    outputElement.appendChild(li);\n",
       "\n",
       "    const fileDataPromise = new Promise((resolve) => {\n",
       "      const reader = new FileReader();\n",
       "      reader.onload = (e) => {\n",
       "        resolve(e.target.result);\n",
       "      };\n",
       "      reader.readAsArrayBuffer(file);\n",
       "    });\n",
       "    // Wait for the data to be ready.\n",
       "    let fileData = yield {\n",
       "      promise: fileDataPromise,\n",
       "      response: {\n",
       "        action: 'continue',\n",
       "      }\n",
       "    };\n",
       "\n",
       "    // Use a chunked sending to avoid message size limits. See b/62115660.\n",
       "    let position = 0;\n",
       "    do {\n",
       "      const length = Math.min(fileData.byteLength - position, MAX_PAYLOAD_SIZE);\n",
       "      const chunk = new Uint8Array(fileData, position, length);\n",
       "      position += length;\n",
       "\n",
       "      const base64 = btoa(String.fromCharCode.apply(null, chunk));\n",
       "      yield {\n",
       "        response: {\n",
       "          action: 'append',\n",
       "          file: file.name,\n",
       "          data: base64,\n",
       "        },\n",
       "      };\n",
       "\n",
       "      let percentDone = fileData.byteLength === 0 ?\n",
       "          100 :\n",
       "          Math.round((position / fileData.byteLength) * 100);\n",
       "      percent.textContent = `${percentDone}% done`;\n",
       "\n",
       "    } while (position < fileData.byteLength);\n",
       "  }\n",
       "\n",
       "  // All done.\n",
       "  yield {\n",
       "    response: {\n",
       "      action: 'complete',\n",
       "    }\n",
       "  };\n",
       "}\n",
       "\n",
       "scope.google = scope.google || {};\n",
       "scope.google.colab = scope.google.colab || {};\n",
       "scope.google.colab._files = {\n",
       "  _uploadFiles,\n",
       "  _uploadFilesContinue,\n",
       "};\n",
       "})(self);\n",
       "</script> "
      ],
      "text/plain": [
       "<IPython.core.display.HTML object>"
      ]
     },
     "metadata": {},
     "output_type": "display_data"
    },
    {
     "name": "stdout",
     "output_type": "stream",
     "text": [
      "Saving DATA.csv to DATA (1).csv\n"
     ]
    }
   ],
   "source": [
    "from google.colab import files\n",
    "uploaded = files.upload()\n"
   ]
  },
  {
   "cell_type": "code",
   "execution_count": 6,
   "metadata": {
    "id": "ZQK7FaLkkBke"
   },
   "outputs": [],
   "source": [
    "import pandas as pd\n",
    "\n",
    "# My file is named 'DATA.csv'\n",
    "data = pd.read_csv('DATA/DATA.csv')\n"
   ]
  },
  {
   "cell_type": "code",
   "execution_count": 7,
   "metadata": {
    "colab": {
     "base_uri": "https://localhost:8080/",
     "height": 273
    },
    "id": "rTUiSU5QkeK8",
    "outputId": "8f852877-1d7d-464a-e6c5-af8e265e9b97"
   },
   "outputs": [
    {
     "data": {
      "text/html": [
       "<div>\n",
       "<style scoped>\n",
       "    .dataframe tbody tr th:only-of-type {\n",
       "        vertical-align: middle;\n",
       "    }\n",
       "\n",
       "    .dataframe tbody tr th {\n",
       "        vertical-align: top;\n",
       "    }\n",
       "\n",
       "    .dataframe thead th {\n",
       "        text-align: right;\n",
       "    }\n",
       "</style>\n",
       "<table border=\"1\" class=\"dataframe\">\n",
       "  <thead>\n",
       "    <tr style=\"text-align: right;\">\n",
       "      <th></th>\n",
       "      <th>Date</th>\n",
       "      <th>Open</th>\n",
       "      <th>High</th>\n",
       "      <th>Low</th>\n",
       "      <th>Close</th>\n",
       "      <th>Volume</th>\n",
       "      <th>NASDAQ</th>\n",
       "      <th>NYSE</th>\n",
       "      <th>S&amp;P 500</th>\n",
       "      <th>FTSE100</th>\n",
       "      <th>...</th>\n",
       "      <th>RUSSELL2000</th>\n",
       "      <th>HENG SENG</th>\n",
       "      <th>SSE</th>\n",
       "      <th>Crude Oil</th>\n",
       "      <th>Gold</th>\n",
       "      <th>VIX</th>\n",
       "      <th>USD index</th>\n",
       "      <th>Amazon</th>\n",
       "      <th>Google</th>\n",
       "      <th>Microsoft</th>\n",
       "    </tr>\n",
       "  </thead>\n",
       "  <tbody>\n",
       "    <tr>\n",
       "      <th>0</th>\n",
       "      <td>2010/7/1</td>\n",
       "      <td>9.082143</td>\n",
       "      <td>9.100000</td>\n",
       "      <td>8.686429</td>\n",
       "      <td>8.874286</td>\n",
       "      <td>1022896000</td>\n",
       "      <td>2101.360107</td>\n",
       "      <td>6462.029785</td>\n",
       "      <td>1027.369995</td>\n",
       "      <td>4805.75</td>\n",
       "      <td>...</td>\n",
       "      <td>604.760010</td>\n",
       "      <td>NaN</td>\n",
       "      <td>2373.791992</td>\n",
       "      <td>72.949997</td>\n",
       "      <td>1206.300049</td>\n",
       "      <td>32.860001</td>\n",
       "      <td>84.72</td>\n",
       "      <td>110.959999</td>\n",
       "      <td>110.959999</td>\n",
       "      <td>23.160000</td>\n",
       "    </tr>\n",
       "    <tr>\n",
       "      <th>1</th>\n",
       "      <td>2010/7/2</td>\n",
       "      <td>8.946072</td>\n",
       "      <td>8.961785</td>\n",
       "      <td>8.685715</td>\n",
       "      <td>8.819285</td>\n",
       "      <td>693842800</td>\n",
       "      <td>2091.790039</td>\n",
       "      <td>6434.810059</td>\n",
       "      <td>1022.580017</td>\n",
       "      <td>4838.09</td>\n",
       "      <td>...</td>\n",
       "      <td>598.969971</td>\n",
       "      <td>19905.32031</td>\n",
       "      <td>2382.900879</td>\n",
       "      <td>72.139999</td>\n",
       "      <td>1207.400024</td>\n",
       "      <td>30.120001</td>\n",
       "      <td>84.43</td>\n",
       "      <td>109.139999</td>\n",
       "      <td>109.139999</td>\n",
       "      <td>23.270000</td>\n",
       "    </tr>\n",
       "    <tr>\n",
       "      <th>2</th>\n",
       "      <td>2010/7/6</td>\n",
       "      <td>8.964286</td>\n",
       "      <td>9.028571</td>\n",
       "      <td>8.791429</td>\n",
       "      <td>8.879642</td>\n",
       "      <td>615235600</td>\n",
       "      <td>2093.879883</td>\n",
       "      <td>6486.089844</td>\n",
       "      <td>1028.060059</td>\n",
       "      <td>4965.00</td>\n",
       "      <td>...</td>\n",
       "      <td>590.030029</td>\n",
       "      <td>20084.11914</td>\n",
       "      <td>2409.424072</td>\n",
       "      <td>71.980003</td>\n",
       "      <td>1194.800049</td>\n",
       "      <td>29.650000</td>\n",
       "      <td>84.08</td>\n",
       "      <td>110.059998</td>\n",
       "      <td>110.059998</td>\n",
       "      <td>23.820000</td>\n",
       "    </tr>\n",
       "    <tr>\n",
       "      <th>3</th>\n",
       "      <td>2010/7/7</td>\n",
       "      <td>8.946072</td>\n",
       "      <td>9.241786</td>\n",
       "      <td>8.919642</td>\n",
       "      <td>9.238214</td>\n",
       "      <td>654556000</td>\n",
       "      <td>2159.469971</td>\n",
       "      <td>6685.779785</td>\n",
       "      <td>1060.270020</td>\n",
       "      <td>5014.82</td>\n",
       "      <td>...</td>\n",
       "      <td>611.659973</td>\n",
       "      <td>19857.07031</td>\n",
       "      <td>2421.116943</td>\n",
       "      <td>74.070000</td>\n",
       "      <td>1198.599976</td>\n",
       "      <td>26.840000</td>\n",
       "      <td>83.82</td>\n",
       "      <td>113.430000</td>\n",
       "      <td>113.430000</td>\n",
       "      <td>24.299999</td>\n",
       "    </tr>\n",
       "    <tr>\n",
       "      <th>4</th>\n",
       "      <td>2010/7/8</td>\n",
       "      <td>9.374286</td>\n",
       "      <td>9.389286</td>\n",
       "      <td>9.103214</td>\n",
       "      <td>9.217500</td>\n",
       "      <td>738144400</td>\n",
       "      <td>2175.399902</td>\n",
       "      <td>6755.810059</td>\n",
       "      <td>1070.250000</td>\n",
       "      <td>5105.45</td>\n",
       "      <td>...</td>\n",
       "      <td>620.270020</td>\n",
       "      <td>20050.56055</td>\n",
       "      <td>2415.149902</td>\n",
       "      <td>75.440002</td>\n",
       "      <td>1195.800049</td>\n",
       "      <td>25.709999</td>\n",
       "      <td>83.82</td>\n",
       "      <td>116.220001</td>\n",
       "      <td>116.220001</td>\n",
       "      <td>24.410000</td>\n",
       "    </tr>\n",
       "  </tbody>\n",
       "</table>\n",
       "<p>5 rows × 22 columns</p>\n",
       "</div>"
      ],
      "text/plain": [
       "       Date      Open      High       Low     Close      Volume      NASDAQ   \\\n",
       "0  2010/7/1  9.082143  9.100000  8.686429  8.874286  1022896000  2101.360107   \n",
       "1  2010/7/2  8.946072  8.961785  8.685715  8.819285   693842800  2091.790039   \n",
       "2  2010/7/6  8.964286  9.028571  8.791429  8.879642   615235600  2093.879883   \n",
       "3  2010/7/7  8.946072  9.241786  8.919642  9.238214   654556000  2159.469971   \n",
       "4  2010/7/8  9.374286  9.389286  9.103214  9.217500   738144400  2175.399902   \n",
       "\n",
       "         NYSE       S&P 500  FTSE100  ...  RUSSELL2000    HENG SENG  \\\n",
       "0  6462.029785  1027.369995  4805.75  ...   604.760010          NaN   \n",
       "1  6434.810059  1022.580017  4838.09  ...   598.969971  19905.32031   \n",
       "2  6486.089844  1028.060059  4965.00  ...   590.030029  20084.11914   \n",
       "3  6685.779785  1060.270020  5014.82  ...   611.659973  19857.07031   \n",
       "4  6755.810059  1070.250000  5105.45  ...   620.270020  20050.56055   \n",
       "\n",
       "           SSE  Crude Oil         Gold        VIX  USD index      Amazon  \\\n",
       "0  2373.791992  72.949997  1206.300049  32.860001      84.72  110.959999   \n",
       "1  2382.900879  72.139999  1207.400024  30.120001      84.43  109.139999   \n",
       "2  2409.424072  71.980003  1194.800049  29.650000      84.08  110.059998   \n",
       "3  2421.116943  74.070000  1198.599976  26.840000      83.82  113.430000   \n",
       "4  2415.149902  75.440002  1195.800049  25.709999      83.82  116.220001   \n",
       "\n",
       "       Google  Microsoft  \n",
       "0  110.959999  23.160000  \n",
       "1  109.139999  23.270000  \n",
       "2  110.059998  23.820000  \n",
       "3  113.430000  24.299999  \n",
       "4  116.220001  24.410000  \n",
       "\n",
       "[5 rows x 22 columns]"
      ]
     },
     "execution_count": 7,
     "metadata": {},
     "output_type": "execute_result"
    }
   ],
   "source": [
    "data.head()\n"
   ]
  },
  {
   "cell_type": "code",
   "execution_count": 8,
   "metadata": {
    "colab": {
     "base_uri": "https://localhost:8080/",
     "height": 70
    },
    "id": "KXlvvs3ekshF",
    "outputId": "7a764243-0244-4fe6-9b98-0f5ecaa78dcc"
   },
   "outputs": [
    {
     "data": {
      "text/plain": [
       "\"\\nThis dataset ('DATA.csv') contains daily stock market data with the following columns:\\n\\n- Date: Date of the trading day.\\n- Open: Opening stock price.\\n- High: Highest stock price during the day.\\n- Low: Lowest stock price during the day.\\n- Close: Closing stock price.\\n\\nThe dataset is organized as a time series and contains historical stock price information.\\n\""
      ]
     },
     "execution_count": 8,
     "metadata": {},
     "output_type": "execute_result"
    }
   ],
   "source": [
    "\"\"\"\n",
    "This dataset ('DATA.csv') contains daily stock market data with the following columns:\n",
    "\n",
    "- Date: Date of the trading day.\n",
    "- Open: Opening stock price.\n",
    "- High: Highest stock price during the day.\n",
    "- Low: Lowest stock price during the day.\n",
    "- Close: Closing stock price.\n",
    "\n",
    "The dataset is organized as a time series and contains historical stock price information.\n",
    "\"\"\"\n"
   ]
  },
  {
   "cell_type": "code",
   "execution_count": 9,
   "metadata": {
    "id": "3-DZ60J3k1aI"
   },
   "outputs": [],
   "source": [
    "\"\"\" importing nececery libraries for data preprosesing \"\"\"\n",
    "import pandas as pd\n",
    "import numpy as np\n",
    "from sklearn.preprocessing import MinMaxScaler\n",
    "from sklearn.model_selection import train_test_split\n"
   ]
  },
  {
   "cell_type": "code",
   "execution_count": 10,
   "metadata": {
    "id": "G36MaEMbl2x-"
   },
   "outputs": [],
   "source": [
    "\"\"\" handling missing values by droping data\"\"\"\n",
    "data = data.dropna()\n"
   ]
  },
  {
   "cell_type": "code",
   "execution_count": 11,
   "metadata": {
    "id": "UO6-8xQomDhe"
   },
   "outputs": [],
   "source": [
    "import pandas as pd\n",
    "import numpy as np\n",
    "from sklearn.preprocessing import MinMaxScaler\n",
    "from sklearn.model_selection import train_test_split\n",
    "\n",
    "# Assuming the dataset is loaded into a DataFrame named \"data.\"\n",
    "\n",
    "# Remove non-numeric columns and convert date to datetime\n",
    "data['Date'] = pd.to_datetime(data['Date'], format='%Y/%m/%d')\n",
    "data = data.select_dtypes(include=[np.number])\n",
    "\n",
    "# Handling Missing Values\n",
    "data = data.dropna()\n",
    "\n",
    "# Normalization/Scaling\n",
    "scaler = MinMaxScaler()\n",
    "data_scaled = scaler.fit_transform(data)\n",
    "\n",
    "# Splitting Data into Training and Testing Sets\n",
    "X = data_scaled[:, :-1]  # Features\n",
    "y = data_scaled[:, -1]   # Target\n",
    "\n",
    "X_train, X_test, y_train, y_test = train_test_split(X, y, test_size=0.2, random_state=42)\n"
   ]
  },
  {
   "cell_type": "code",
   "execution_count": 12,
   "metadata": {
    "id": "bJNctYoYnm4f"
   },
   "outputs": [],
   "source": [
    "\"\"\" Import the necessary libraries for building a CNN model using TensorFlow and Keras. \"\"\"\n",
    "import tensorflow as tf\n",
    "from tensorflow.keras.models import Sequential\n",
    "from tensorflow.keras.layers import Conv1D, MaxPooling1D, Flatten, Dense, Dropout\n"
   ]
  },
  {
   "cell_type": "code",
   "execution_count": 13,
   "metadata": {
    "id": "aZuzFQRKoaRc"
   },
   "outputs": [],
   "source": [
    "\"\"\" creating a sequatial model \"\"\"\n",
    "model = Sequential()\n"
   ]
  },
  {
   "cell_type": "code",
   "execution_count": 14,
   "metadata": {
    "id": "OEgwG8GGogik"
   },
   "outputs": [],
   "source": [
    "\"\"\" Add convolutional layers, pooling layers, and fully connected layers \"\"\"\n",
    "model.add(Conv1D(filters=64, kernel_size=3, activation='relu', input_shape=(X_train.shape[1], 1)))\n",
    "model.add(MaxPooling1D(pool_size=2))\n",
    "model.add(Flatten())\n",
    "model.add(Dense(128, activation='relu'))\n",
    "model.add(Dropout(0.5))\n",
    "model.add(Dense(1, activation='linear'))  # Output layer\n"
   ]
  },
  {
   "cell_type": "code",
   "execution_count": 15,
   "metadata": {
    "id": "b1Yo4hfqopK0"
   },
   "outputs": [],
   "source": [
    "\"\"\" Compile the model by specifying an optimizer, loss function, and evaluation metric. \"\"\"\n",
    "model.compile(optimizer='adam', loss='mean_squared_error', metrics=['mse'])\n"
   ]
  },
  {
   "cell_type": "code",
   "execution_count": 16,
   "metadata": {
    "id": "FW9T-4Yhox8v"
   },
   "outputs": [],
   "source": [
    "\"\"\" Reshaping the model \"\"\"\n",
    "X_train = X_train.reshape(X_train.shape[0], X_train.shape[1], 1)\n",
    "X_test = X_test.reshape(X_test.shape[0], X_test.shape[1], 1)\n"
   ]
  },
  {
   "cell_type": "code",
   "execution_count": 17,
   "metadata": {
    "colab": {
     "base_uri": "https://localhost:8080/"
    },
    "id": "TeL6OBdPpGBR",
    "outputId": "ad8868cb-67a0-431b-a787-ee0204de0d8f"
   },
   "outputs": [
    {
     "name": "stdout",
     "output_type": "stream",
     "text": [
      "Epoch 1/10\n",
      "53/53 [==============================] - 1s 11ms/step - loss: 0.0181 - mse: 0.0181 - val_loss: 0.0013 - val_mse: 0.0013\n",
      "Epoch 2/10\n",
      "53/53 [==============================] - 0s 5ms/step - loss: 0.0050 - mse: 0.0050 - val_loss: 9.5026e-04 - val_mse: 9.5026e-04\n",
      "Epoch 3/10\n",
      "53/53 [==============================] - 0s 6ms/step - loss: 0.0050 - mse: 0.0050 - val_loss: 0.0039 - val_mse: 0.0039\n",
      "Epoch 4/10\n",
      "53/53 [==============================] - 0s 5ms/step - loss: 0.0043 - mse: 0.0043 - val_loss: 0.0027 - val_mse: 0.0027\n",
      "Epoch 5/10\n",
      "53/53 [==============================] - 0s 5ms/step - loss: 0.0051 - mse: 0.0051 - val_loss: 5.4272e-04 - val_mse: 5.4272e-04\n",
      "Epoch 6/10\n",
      "53/53 [==============================] - 0s 5ms/step - loss: 0.0039 - mse: 0.0039 - val_loss: 6.8792e-04 - val_mse: 6.8792e-04\n",
      "Epoch 7/10\n",
      "53/53 [==============================] - 0s 5ms/step - loss: 0.0038 - mse: 0.0038 - val_loss: 7.5654e-04 - val_mse: 7.5654e-04\n",
      "Epoch 8/10\n",
      "53/53 [==============================] - 0s 5ms/step - loss: 0.0034 - mse: 0.0034 - val_loss: 0.0013 - val_mse: 0.0013\n",
      "Epoch 9/10\n",
      "53/53 [==============================] - 0s 4ms/step - loss: 0.0037 - mse: 0.0037 - val_loss: 4.3678e-04 - val_mse: 4.3678e-04\n",
      "Epoch 10/10\n",
      "53/53 [==============================] - 0s 4ms/step - loss: 0.0034 - mse: 0.0034 - val_loss: 0.0016 - val_mse: 0.0016\n"
     ]
    }
   ],
   "source": [
    "\"\"\" Specifying the number of epochs and batch size as needed. \"\"\"\n",
    "history = model.fit(X_train, y_train, epochs=10, batch_size=32, validation_data=(X_test, y_test))\n"
   ]
  },
  {
   "cell_type": "code",
   "execution_count": 32,
   "metadata": {
    "colab": {
     "base_uri": "https://localhost:8080/"
    },
    "id": "pJnDVferpZx9",
    "outputId": "cfa6205d-6a58-4202-e0e1-e0e2bbfb941e"
   },
   "outputs": [
    {
     "name": "stdout",
     "output_type": "stream",
     "text": [
      "14/14 [==============================] - 0s 2ms/step - loss: 4.1405e-04 - mse: 4.1405e-04\n",
      "Mean Squared Error: 0.00041404564399272203\n"
     ]
    }
   ],
   "source": [
    "\"\"\" Getting the results \"\"\"\n",
    "loss, mse = model.evaluate(X_test, y_test)\n",
    "print(f\"Mean Squared Error: {mse}\")\n"
   ]
  }
 ],
 "metadata": {
  "colab": {
   "provenance": []
  },
  "kernelspec": {
   "display_name": "Python 3 (ipykernel)",
   "language": "python",
   "name": "python3"
  },
  "language_info": {
   "codemirror_mode": {
    "name": "ipython",
    "version": 3
   },
   "file_extension": ".py",
   "mimetype": "text/x-python",
   "name": "python",
   "nbconvert_exporter": "python",
   "pygments_lexer": "ipython3",
   "version": "3.10.12"
  }
 },
 "nbformat": 4,
 "nbformat_minor": 1
}
